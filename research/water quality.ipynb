{
 "cells": [
  {
   "cell_type": "code",
   "execution_count": 333,
   "id": "1452a17b",
   "metadata": {},
   "outputs": [],
   "source": [
    "import json # will be needed for saving preprocessing details\n",
    "import numpy as np # for data manipulation\n",
    "import pandas as pd # for data manipulation\n",
    "from sklearn.model_selection import train_test_split # will be used for data split\n",
    "from sklearn.preprocessing import LabelEncoder # for preprocessing\n",
    "from sklearn.ensemble import RandomForestClassifier # for training the algorithm\n",
    "from sklearn.ensemble import ExtraTreesClassifier # for training the algorithm\n",
    "import joblib # for saving algorithm and preprocessing objects\n",
    "from sklearn.metrics import accuracy_score\n",
    "from sklearn.metrics import precision_score, confusion_matrix"
   ]
  },
  {
   "cell_type": "code",
   "execution_count": 334,
   "id": "28a5f1cd",
   "metadata": {},
   "outputs": [
    {
     "data": {
      "text/html": [
       "<div>\n",
       "<style scoped>\n",
       "    .dataframe tbody tr th:only-of-type {\n",
       "        vertical-align: middle;\n",
       "    }\n",
       "\n",
       "    .dataframe tbody tr th {\n",
       "        vertical-align: top;\n",
       "    }\n",
       "\n",
       "    .dataframe thead th {\n",
       "        text-align: right;\n",
       "    }\n",
       "</style>\n",
       "<table border=\"1\" class=\"dataframe\">\n",
       "  <thead>\n",
       "    <tr style=\"text-align: right;\">\n",
       "      <th></th>\n",
       "      <th>ph</th>\n",
       "      <th>Hardness</th>\n",
       "      <th>Solids</th>\n",
       "      <th>Chloramines</th>\n",
       "      <th>Sulfate</th>\n",
       "      <th>Conductivity</th>\n",
       "      <th>Organic_carbon</th>\n",
       "      <th>Trihalomethanes</th>\n",
       "      <th>Turbidity</th>\n",
       "      <th>Potability</th>\n",
       "    </tr>\n",
       "  </thead>\n",
       "  <tbody>\n",
       "    <tr>\n",
       "      <th>0</th>\n",
       "      <td>7.313447</td>\n",
       "      <td>158.707472</td>\n",
       "      <td>23154.062320</td>\n",
       "      <td>4.143329</td>\n",
       "      <td>276.550161</td>\n",
       "      <td>436.517274</td>\n",
       "      <td>10.890085</td>\n",
       "      <td>87.912530</td>\n",
       "      <td>2.220640</td>\n",
       "      <td>1</td>\n",
       "    </tr>\n",
       "    <tr>\n",
       "      <th>1</th>\n",
       "      <td>8.129586</td>\n",
       "      <td>177.898967</td>\n",
       "      <td>27834.217700</td>\n",
       "      <td>9.006008</td>\n",
       "      <td>334.438539</td>\n",
       "      <td>397.021428</td>\n",
       "      <td>15.936262</td>\n",
       "      <td>81.390759</td>\n",
       "      <td>3.362537</td>\n",
       "      <td>0</td>\n",
       "    </tr>\n",
       "    <tr>\n",
       "      <th>2</th>\n",
       "      <td>7.260320</td>\n",
       "      <td>194.247742</td>\n",
       "      <td>8127.071254</td>\n",
       "      <td>6.674032</td>\n",
       "      <td>394.555835</td>\n",
       "      <td>312.349017</td>\n",
       "      <td>16.005022</td>\n",
       "      <td>65.023960</td>\n",
       "      <td>4.282315</td>\n",
       "      <td>0</td>\n",
       "    </tr>\n",
       "    <tr>\n",
       "      <th>3</th>\n",
       "      <td>6.603641</td>\n",
       "      <td>206.919743</td>\n",
       "      <td>14598.025790</td>\n",
       "      <td>6.452141</td>\n",
       "      <td>316.253503</td>\n",
       "      <td>582.110606</td>\n",
       "      <td>12.520933</td>\n",
       "      <td>68.872497</td>\n",
       "      <td>3.403798</td>\n",
       "      <td>1</td>\n",
       "    </tr>\n",
       "    <tr>\n",
       "      <th>4</th>\n",
       "      <td>8.727779</td>\n",
       "      <td>202.419505</td>\n",
       "      <td>25521.889220</td>\n",
       "      <td>3.830238</td>\n",
       "      <td>326.907924</td>\n",
       "      <td>461.958812</td>\n",
       "      <td>16.611458</td>\n",
       "      <td>104.373250</td>\n",
       "      <td>3.831540</td>\n",
       "      <td>0</td>\n",
       "    </tr>\n",
       "  </tbody>\n",
       "</table>\n",
       "</div>"
      ],
      "text/plain": [
       "         ph    Hardness        Solids  Chloramines     Sulfate  Conductivity   \n",
       "0  7.313447  158.707472  23154.062320     4.143329  276.550161    436.517274  \\\n",
       "1  8.129586  177.898967  27834.217700     9.006008  334.438539    397.021428   \n",
       "2  7.260320  194.247742   8127.071254     6.674032  394.555835    312.349017   \n",
       "3  6.603641  206.919743  14598.025790     6.452141  316.253503    582.110606   \n",
       "4  8.727779  202.419505  25521.889220     3.830238  326.907924    461.958812   \n",
       "\n",
       "   Organic_carbon  Trihalomethanes  Turbidity  Potability  \n",
       "0       10.890085        87.912530   2.220640           1  \n",
       "1       15.936262        81.390759   3.362537           0  \n",
       "2       16.005022        65.023960   4.282315           0  \n",
       "3       12.520933        68.872497   3.403798           1  \n",
       "4       16.611458       104.373250   3.831540           0  "
      ]
     },
     "execution_count": 334,
     "metadata": {},
     "output_type": "execute_result"
    }
   ],
   "source": [
    "# load dataset\n",
    "df = pd.read_csv('shuffled_cleaned_water_potability2.csv', skipinitialspace=True)\n",
    "x_cols = [c for c in df.columns if c != 'Potability']\n",
    "# set input matrix and target column\n",
    "X = df[x_cols]\n",
    "y = df['Potability']\n",
    "# show first rows of data\n",
    "df.head()"
   ]
  },
  {
   "cell_type": "code",
   "execution_count": 335,
   "id": "7633addc",
   "metadata": {},
   "outputs": [],
   "source": [
    "# data split train / test\n",
    "X_train, X_test, y_train, y_test = train_test_split(X, y, test_size = 0.3, random_state=1234)"
   ]
  },
  {
   "cell_type": "code",
   "execution_count": 336,
   "id": "10d4cb88",
   "metadata": {},
   "outputs": [],
   "source": [
    "# train the Random Forest algorithm\n",
    "rf = RandomForestClassifier(n_estimators = 100)\n",
    "rf = rf.fit(X_train, y_train)\n"
   ]
  },
  {
   "cell_type": "code",
   "execution_count": 337,
   "id": "c2e88906",
   "metadata": {},
   "outputs": [
    {
     "data": {
      "text/plain": [
       "[0.7036423841059603]"
      ]
     },
     "execution_count": 337,
     "metadata": {},
     "output_type": "execute_result"
    }
   ],
   "source": [
    "finalResults = []\n",
    "cmList = []\n",
    "# model.fit(X_train, y_train) # train\n",
    "model_result = rf.predict(X_test) # prediction\n",
    "score = accuracy_score(y_test, model_result)\n",
    "cm = confusion_matrix(y_test, model_result)\n",
    "\n",
    "finalResults.append(score)\n",
    "cmList.append(cm)\n",
    "finalResults"
   ]
  },
  {
   "cell_type": "code",
   "execution_count": 338,
   "id": "022189cc",
   "metadata": {},
   "outputs": [
    {
     "name": "stdout",
     "output_type": "stream",
     "text": [
      "[1]\n"
     ]
    },
    {
     "name": "stderr",
     "output_type": "stream",
     "text": [
      "d:\\gp project\\SmartFarm\\SmartFarm\\env\\Lib\\site-packages\\sklearn\\base.py:439: UserWarning: X does not have valid feature names, but RandomForestClassifier was fitted with feature names\n",
      "  warnings.warn(\n"
     ]
    }
   ],
   "source": [
    "x=[[ \n",
    "             5.735724,\n",
    "             158.318741,\n",
    "             25363.016594,\n",
    "             7.728601,\n",
    "             377.543291,\n",
    "             568.304671,\n",
    "             13.626624,\n",
    "             75.952337,\n",
    "             4.732954\n",
    "           \n",
    "        ]]\n",
    "r=rf.predict(  x)\n",
    "print(r)"
   ]
  },
  {
   "cell_type": "code",
   "execution_count": 339,
   "id": "eba98008",
   "metadata": {},
   "outputs": [],
   "source": [
    "# train the Extra Trees algorithm\n",
    "et = ExtraTreesClassifier(n_estimators = 100)\n",
    "et = et.fit(X_train, y_train)"
   ]
  },
  {
   "cell_type": "code",
   "execution_count": 340,
   "id": "1f473a92",
   "metadata": {},
   "outputs": [
    {
     "data": {
      "text/plain": [
       "['./extra_trees.joblib']"
      ]
     },
     "execution_count": 340,
     "metadata": {},
     "output_type": "execute_result"
    }
   ],
   "source": [
    "# save preprocessing objects and RF algorithm\n",
    "# joblib.dump(train_mode, \"./train_mode.joblib\", compress=True)\n",
    "# joblib.dump(encoders, \"./encoders.joblib\", compress=True)\n",
    "joblib.dump(rf, \"./random_forest.joblib\", compress=True)\n",
    "joblib.dump(et, \"./extra_trees.joblib\", compress=True)"
   ]
  },
  {
   "cell_type": "code",
   "execution_count": null,
   "id": "2d110f4c",
   "metadata": {},
   "outputs": [],
   "source": []
  }
 ],
 "metadata": {
  "kernelspec": {
   "display_name": "venv",
   "language": "python",
   "name": "venv"
  },
  "language_info": {
   "codemirror_mode": {
    "name": "ipython",
    "version": 3
   },
   "file_extension": ".py",
   "mimetype": "text/x-python",
   "name": "python",
   "nbconvert_exporter": "python",
   "pygments_lexer": "ipython3",
   "version": "3.11.2"
  }
 },
 "nbformat": 4,
 "nbformat_minor": 5
}
